{
  "nbformat": 4,
  "nbformat_minor": 0,
  "metadata": {
    "colab": {
      "name": "파이썬기초_윤서진_과제4.ipynb",
      "provenance": [],
      "collapsed_sections": []
    },
    "kernelspec": {
      "name": "python3",
      "display_name": "Python 3"
    }
  },
  "cells": [
    {
      "cell_type": "code",
      "metadata": {
        "id": "0bzGasMUZWKQ",
        "colab_type": "code",
        "colab": {
          "base_uri": "https://localhost:8080/",
          "height": 35
        },
        "outputId": "7c0312fc-f22f-4f53-9051-3d25f57b74ce"
      },
      "source": [
        "from sympy import *\n",
        "\n",
        "x = Symbol('x')\n",
        "f = x**2-1\n",
        "f_diff = f.diff(x)\n",
        "\n",
        "print(f_diff)"
      ],
      "execution_count": 42,
      "outputs": [
        {
          "output_type": "stream",
          "text": [
            "2*x\n"
          ],
          "name": "stdout"
        }
      ]
    },
    {
      "cell_type": "code",
      "metadata": {
        "id": "uiBTb4KkbJYy",
        "colab_type": "code",
        "colab": {
          "base_uri": "https://localhost:8080/",
          "height": 35
        },
        "outputId": "d0477b9c-bbf1-4e37-8198-6b0da4bbc6d5"
      },
      "source": [
        "def f(y):\n",
        "  return y**2-1\n",
        "def f_diff(y):\n",
        "  return 2*y\n",
        "def Newton_Method(y):\n",
        "  for i in range(100):\n",
        "    if 0.1>f(y)>-0.1:\n",
        "      return y,i+1\n",
        "    y = y-f(y)/f_diff(y)\n",
        "  if f(y)>0.1 or f(y)<-0.1:\n",
        "    return y,\"no solution\"\n",
        "  return y,i+1\n",
        "\n",
        "print(Newton_Method(6))"
      ],
      "execution_count": 36,
      "outputs": [
        {
          "output_type": "stream",
          "text": [
            "(1.0092252908082464, 5)\n"
          ],
          "name": "stdout"
        }
      ]
    },
    {
      "cell_type": "code",
      "metadata": {
        "id": "BTjLUhXgfEOg",
        "colab_type": "code",
        "colab": {
          "base_uri": "https://localhost:8080/",
          "height": 126
        },
        "outputId": "89caa08e-ac6c-4e9b-84d0-72091e2a0181"
      },
      "source": [
        "def Newton_Method2(a):\n",
        "  c = 3\n",
        "  for i in range(1000):\n",
        "    y = c**2+1\n",
        "    y_diff = 2*c\n",
        "    if (y < 1.1): \n",
        "      return \"best solution:(x,y)=(\"+str(c)+str(y)+\")\\ntime:\"+str(i)\n",
        "    if y_diff > 0: c -= a \n",
        "    else: c += a \n",
        "  return \"no solution\\ntime:\"+str(i+1)\n",
        "\n",
        "print(Newton_Method2(0.1))\n",
        "print(Newton_Method2(0.05))\n",
        "print(Newton_Method2(0.01))"
      ],
      "execution_count": 81,
      "outputs": [
        {
          "output_type": "stream",
          "text": [
            "best solution:(x,y)=(0.29999999999999851.0899999999999992)\n",
            "time:27\n",
            "best solution:(x,y)=(0.300000000000002261.0900000000000014)\n",
            "time:54\n",
            "best solution:(x,y)=(0.31000000000001981.0961000000000123)\n",
            "time:269\n"
          ],
          "name": "stdout"
        }
      ]
    },
    {
      "cell_type": "code",
      "metadata": {
        "id": "BBZMEs5AnrOS",
        "colab_type": "code",
        "colab": {}
      },
      "source": [
        ""
      ],
      "execution_count": 0,
      "outputs": []
    }
  ]
}